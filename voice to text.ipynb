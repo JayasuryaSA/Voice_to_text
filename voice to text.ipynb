{
 "cells": [
  {
   "cell_type": "code",
   "execution_count": null,
   "id": "efa3dee5",
   "metadata": {},
   "outputs": [],
   "source": []
  },
  {
   "cell_type": "code",
   "execution_count": 6,
   "id": "df5f778c",
   "metadata": {},
   "outputs": [
    {
     "name": "stdout",
     "output_type": "stream",
     "text": [
      "say something\n",
      "You saidநன்றாக இருக்கிறீர்களா\n"
     ]
    }
   ],
   "source": [
    "import speech_recognition as sr\n",
    "r=sr.Recognizer()\n",
    "speech=sr.Microphone(device_index=1)\n",
    "with speech as source:\n",
    "    print(\"say something\")\n",
    "    audio=r.adjust_for_ambient_noise(source)\n",
    "    audio=r.listen(source)\n",
    "try:\n",
    "    recog=r.recognize_google(audio, language=\"ta-IN\")\n",
    "    print(\"You said\" +recog)\n",
    "except sr.UnknownValueError:\n",
    "    print(\"Google speech recoganize audio \")\n",
    "except sr.RequestError as e:\n",
    "    print(\"could not request results from google; {0}\", format(e))\n",
    "    "
   ]
  },
  {
   "cell_type": "code",
   "execution_count": null,
   "id": "cfaab0f1",
   "metadata": {},
   "outputs": [],
   "source": []
  },
  {
   "cell_type": "code",
   "execution_count": 3,
   "id": "027ad576",
   "metadata": {},
   "outputs": [
    {
     "name": "stdout",
     "output_type": "stream",
     "text": [
      "Defaulting to user installation because normal site-packages is not writeable\n",
      "Requirement already satisfied: pyttsx3 in c:\\users\\vvk_p\\appdata\\roaming\\python\\python310\\site-packages (2.90)\n",
      "Requirement already satisfied: comtypes in c:\\users\\vvk_p\\appdata\\roaming\\python\\python310\\site-packages (from pyttsx3) (1.2.0)\n",
      "Requirement already satisfied: pypiwin32 in c:\\users\\vvk_p\\appdata\\roaming\\python\\python310\\site-packages (from pyttsx3) (223)\n",
      "Requirement already satisfied: pywin32 in c:\\programdata\\anaconda3\\lib\\site-packages (from pyttsx3) (305.1)\n",
      "Note: you may need to restart the kernel to use updated packages.\n"
     ]
    }
   ],
   "source": [
    "pip install pyttsx3\n"
   ]
  },
  {
   "cell_type": "code",
   "execution_count": 13,
   "id": "9ed04300",
   "metadata": {},
   "outputs": [],
   "source": [
    "import speech_recognition as sr\n",
    "import pyttsx3\n",
    "\n",
    "engine=pyttsx3.init()\n",
    "engine.setProperty('rate', 200)\n",
    "engine.setProperty('volume',0.9)\n",
    "r=sr.Recognizer()\n",
    "\n",
    "speech=sr.Microphone(device_index=1)\n",
    "with speech as source:\n",
    "    audio=r.adjust_for_ambient_noise(source)\n",
    "    audio=r.listen(source)\n",
    "try:\n",
    "    recog=r.recognize_google(audio,language='en-US')\n",
    "    print(\"you said\" +recog)\n",
    "    engine.say(\"you said\" +recog)\n",
    "    engine.runAndWait()\n",
    "except sr.UnknownValueError:\n",
    "    engine.say(\"hi bro \")\n",
    "    engine.runAndWait()\n",
    "except sr.RequestError as  e:\n",
    "    engine.say(\"could not request result; {0}\", format(e))\n",
    "    engine.runAndWait()\n"
   ]
  },
  {
   "cell_type": "code",
   "execution_count": null,
   "id": "bcc0ff69",
   "metadata": {},
   "outputs": [],
   "source": []
  },
  {
   "cell_type": "code",
   "execution_count": null,
   "id": "6a98f868",
   "metadata": {},
   "outputs": [],
   "source": []
  },
  {
   "cell_type": "code",
   "execution_count": 12,
   "id": "e7e99a52",
   "metadata": {},
   "outputs": [
    {
     "name": "stdout",
     "output_type": "stream",
     "text": [
      "SAY SOMETHING:\n",
      "Googe Speech Recoganize could, not understand ur audio\n"
     ]
    }
   ],
   "source": [
    "import speech_recognition as sr\n",
    "import pyttsx3\n",
    "engine=pyttsx3.init()\n",
    "engine.setProperty('rate',200)\n",
    "engine.setProperty('volume',1.0)\n",
    "r=sr.Recognizer()\n",
    "\n",
    "with sr.Microphone(device_index=1) as source:\n",
    "    print(\"SAY SOMETHING:\")\n",
    "    audio=r.adjust_for_ambient_noise(source)\n",
    "    audio=r.listen(source)\n",
    "    \n",
    "    try:\n",
    "        text=r.recognize_google(audio,language='en-US')\n",
    "        print(\"YOU SAID:\"+text)\n",
    "        engine.say(\"YOU SAIDD: \"+text)\n",
    "        engine.runAndWait()\n",
    "    except sr.UnknownValueError:\n",
    "        print(\"Googe Speech Recoganize could, not understand ur audio\")\n",
    "        engine.runAndWait()\n",
    "    except sr.RequestError as e:\n",
    "        print(\"Could not request results from google speech recoganization; {0}\", format(e))\n",
    "        engine.runAndWait()\n",
    "    except:\n",
    "        print(\"SORRY WE CANT HEAR YOUR VOICE\")\n",
    "        engine.runAndWait()"
   ]
  },
  {
   "cell_type": "code",
   "execution_count": null,
   "id": "1a14d530",
   "metadata": {},
   "outputs": [],
   "source": []
  },
  {
   "cell_type": "code",
   "execution_count": null,
   "id": "1d0e2653",
   "metadata": {},
   "outputs": [],
   "source": []
  },
  {
   "cell_type": "code",
   "execution_count": null,
   "id": "074d5537",
   "metadata": {},
   "outputs": [],
   "source": []
  },
  {
   "cell_type": "code",
   "execution_count": null,
   "id": "8ad448f2",
   "metadata": {},
   "outputs": [],
   "source": []
  },
  {
   "cell_type": "code",
   "execution_count": null,
   "id": "208b00b6",
   "metadata": {},
   "outputs": [],
   "source": []
  }
 ],
 "metadata": {
  "kernelspec": {
   "display_name": "Python 3 (ipykernel)",
   "language": "python",
   "name": "python3"
  },
  "language_info": {
   "codemirror_mode": {
    "name": "ipython",
    "version": 3
   },
   "file_extension": ".py",
   "mimetype": "text/x-python",
   "name": "python",
   "nbconvert_exporter": "python",
   "pygments_lexer": "ipython3",
   "version": "3.10.9"
  }
 },
 "nbformat": 4,
 "nbformat_minor": 5
}
